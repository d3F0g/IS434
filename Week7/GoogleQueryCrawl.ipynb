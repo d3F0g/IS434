{
 "cells": [
  {
   "cell_type": "markdown",
   "metadata": {},
   "source": [
    "Web Crawling & Scraping (Google Search)\n",
    "\n",
    "This script performs a google search and returns URL that matches the search term provided.\n",
    "\n",
    "After collecting the urls, it visit each URL and extract text content (both HTML and PDF) from the pages visited.\n",
    "\n",
    "Author       : Eugene Choy (eugene.choy.wj@hotmail.com)\n",
    "Last Updated : 8 Feb 2020"
   ]
  },
  {
   "cell_type": "markdown",
   "metadata": {},
   "source": [
    "If you don't have already, you will need to nstall Python googlesearch package\n",
    "1. pip install google\n",
    "2. pip install textract"
   ]
  },
  {
   "cell_type": "code",
   "execution_count": 2,
   "metadata": {},
   "outputs": [],
   "source": [
    "from googlesearch import search\n",
    "import time"
   ]
  },
  {
   "cell_type": "code",
   "execution_count": 3,
   "metadata": {},
   "outputs": [
    {
     "name": "stdout",
     "output_type": "stream",
     "text": [
      "https://en.wikipedia.org/wiki/Wuhan\n",
      "https://en.wikipedia.org/wiki/Wuhan#History\n",
      "https://en.wikipedia.org/wiki/Wuhan#Geography\n",
      "https://en.wikipedia.org/wiki/Wuhan#Transportation\n",
      "https://en.wikipedia.org/wiki/Wuhan#Culture\n",
      "https://www.globaltimes.cn/page/202202/1252865.shtml\n",
      "https://www.globaltimes.cn/page/202202/1252719.shtml\n",
      "https://www.scmp.com/news/china/science/article/3167675/coronavirus-beijing-expert-who-beat-wuhan-outbreak-now-hong-kong\n",
      "https://www.britannica.com/place/Wuhan\n",
      "https://www.eyeonasia.gov.sg/china/know/china-municipalities-provinces/wuhan-profile/\n",
      "https://www.channelnewsasia.com/asia/china-covid-19-doctor-li-wenliang-whistleblower-wuhan-2407381\n",
      "https://en.unesco.org/creative-cities/wuhan\n",
      "https://www.bloomberg.com/news/features/2021-06-27/did-covid-come-from-a-lab-scientist-at-wuhan-institute-speaks-out\n",
      "https://www.reuters.com/world/china/china-reports-90-new-coronavirus-cases-aug-2-vs-98-day-earlier-2021-08-03/\n",
      "https://www.france24.com/en/tv-shows/focus/20220125-in-wuhan-chinese-authorities-rewrite-history-of-covid-19\n",
      "https://theconversation.com/global/topics/wuhan-80948\n",
      "https://www.aa.com.tr/en/asia-pacific/life-back-to-normal-in-covid-ground-zero-of-wuhan-china/2461675\n",
      "https://www.ndtv.com/world-news/how-china-appears-to-be-blocking-investigation-on-covid-origins-2782100\n",
      "https://www.scmp.com/sport/china/article/3153286/wuhan-marathon-postponed-amid-surge-covid-19-cases-china\n",
      "https://www.bbc.com/news/world-asia-china-58066744\n"
     ]
    }
   ],
   "source": [
    "query = \"wuhan\"\n",
    "my_results_list = []\n",
    "for i in search(query,        # The query you want to run\n",
    "                tld = 'com',  # The top level domain\n",
    "                lang = 'en',  # The language\n",
    "                num = 10,     # Number of results per page\n",
    "                start = 0,    # First result to retrieve\n",
    "                stop = 20,  # Last result to retrieve\n",
    "                pause = 2.0,  # Lapse between HTTP requests\n",
    "               ):\n",
    "    my_results_list.append(i)\n",
    "    print(i)"
   ]
  },
  {
   "cell_type": "code",
   "execution_count": 4,
   "metadata": {},
   "outputs": [
    {
     "name": "stdout",
     "output_type": "stream",
     "text": [
      "wuhan1645589920.txt written to out folder\n"
     ]
    }
   ],
   "source": [
    "# output the URLS into a text file\n",
    "\n",
    "import os \n",
    "\n",
    "\n",
    "# if directory don't exist\n",
    "path = \"./out/\"\n",
    "if not os.path.exists(path):\n",
    "    os.makedirs(path)\n",
    "\n",
    "# Write into txt file for record\n",
    "time_string = str(int(time.time()))\n",
    "f = open(path + query.replace(\" \", \"_\") + time_string + \".txt\",\"w\")\n",
    "\n",
    "for result in my_results_list:\n",
    "    f.write(result +\"\\n\")\n",
    "    \n",
    "f.close()\n",
    "print(query.replace(\" \", \"_\") + time_string + \".txt\" + \" written to out folder\")"
   ]
  },
  {
   "cell_type": "code",
   "execution_count": 5,
   "metadata": {},
   "outputs": [],
   "source": [
    "import os\n",
    "import requests\n",
    "import time\n",
    "from bs4 import BeautifulSoup\n",
    "import textract\n",
    "\n",
    "# Methods to extract content from webpage\n",
    "def get_urls_from_path(path,url_list):\n",
    "    for filename in os.listdir(path):\n",
    "        f = open(path + '/' + filename,'r')\n",
    "        for url in f:\n",
    "            url_list.append(url.replace(\"\\n\",\"\"))\n",
    "    return url_list\n",
    "\n",
    "\n",
    "def content_from_result(results_list):\n",
    "    content = \"\"\n",
    "    for result in results_list:\n",
    "        text = result.get_text()\n",
    "        text = text.replace(\"\\n\",\"\")\n",
    "        text = text.replace(\",\",\";\")\n",
    "        text = text.replace(\"  \",\"\")\n",
    "        text = text.replace(\"\\r\",\" \")\n",
    "        text = text.replace(\"\\xa0\",\" \")\n",
    "        text = text.replace(\"©\",\"copyrighted \")\n",
    "        content += text\n",
    "    return content\n",
    "\n",
    "def get_pdf_content_from_url(url):\n",
    "    myfile = requests.get(url)\n",
    "    \n",
    "    path = \"./temp/\"\n",
    "    if not os.path.exists(path):\n",
    "        os.makedirs(path)\n",
    "    \n",
    "    open(path + 'temp.pdf', 'wb').write(myfile.content)\n",
    "    text = textract.process(path + \"temp.pdf\")\n",
    "    \n",
    "    text = text.decode()\n",
    "    text = text.replace(\"\\n\",\"\")\n",
    "    text = text.replace(\"\\x0c\",\"\")\n",
    "    text = text.replace(\",\",\";\")\n",
    "    text = text.replace(\"  \",\"\")\n",
    "    text = text.replace(\"©\",\"copyrighted \")\n",
    "    \n",
    "    os.remove(path + \"temp.pdf\")\n",
    "    return text\n",
    "\n",
    "def get_content_from_url(url):\n",
    "\n",
    "    content = \"\"\n",
    "    if \".pdf\" not in url:\n",
    "        page = requests.get(url)\n",
    "        page_content = page.content\n",
    "\n",
    "        soup = BeautifulSoup(page_content, 'html.parser')\n",
    "\n",
    "        results_list = soup.find_all('h2')\n",
    "        content += content_from_result(results_list)\n",
    "\n",
    "        results_list = soup.find_all('p')\n",
    "        content += \" \" + content_from_result(results_list)\n",
    "        return content\n",
    "    else:\n",
    "        return get_pdf_content_from_url(url)"
   ]
  },
  {
   "cell_type": "code",
   "execution_count": 6,
   "metadata": {},
   "outputs": [
    {
     "data": {
      "text/plain": [
       "['https://en.wikipedia.org/wiki/Wuhan',\n",
       " 'https://en.wikipedia.org/wiki/Wuhan#History',\n",
       " 'https://en.wikipedia.org/wiki/Wuhan#Geography',\n",
       " 'https://en.wikipedia.org/wiki/Wuhan#Transportation',\n",
       " 'https://en.wikipedia.org/wiki/Wuhan#Culture',\n",
       " 'https://www.globaltimes.cn/page/202202/1252865.shtml',\n",
       " 'https://www.globaltimes.cn/page/202202/1252719.shtml',\n",
       " 'https://www.scmp.com/news/china/science/article/3167675/coronavirus-beijing-expert-who-beat-wuhan-outbreak-now-hong-kong',\n",
       " 'https://www.britannica.com/place/Wuhan',\n",
       " 'https://www.eyeonasia.gov.sg/china/know/china-municipalities-provinces/wuhan-profile/',\n",
       " 'https://www.channelnewsasia.com/asia/china-covid-19-doctor-li-wenliang-whistleblower-wuhan-2407381',\n",
       " 'https://en.unesco.org/creative-cities/wuhan',\n",
       " 'https://www.bloomberg.com/news/features/2021-06-27/did-covid-come-from-a-lab-scientist-at-wuhan-institute-speaks-out',\n",
       " 'https://www.reuters.com/world/china/china-reports-90-new-coronavirus-cases-aug-2-vs-98-day-earlier-2021-08-03/',\n",
       " 'https://www.france24.com/en/tv-shows/focus/20220125-in-wuhan-chinese-authorities-rewrite-history-of-covid-19',\n",
       " 'https://theconversation.com/global/topics/wuhan-80948',\n",
       " 'https://www.aa.com.tr/en/asia-pacific/life-back-to-normal-in-covid-ground-zero-of-wuhan-china/2461675',\n",
       " 'https://www.ndtv.com/world-news/how-china-appears-to-be-blocking-investigation-on-covid-origins-2782100',\n",
       " 'https://www.scmp.com/sport/china/article/3153286/wuhan-marathon-postponed-amid-surge-covid-19-cases-china',\n",
       " 'https://www.bbc.com/news/world-asia-china-58066744']"
      ]
     },
     "execution_count": 6,
     "metadata": {},
     "output_type": "execute_result"
    }
   ],
   "source": [
    "url_list = []\n",
    "url_list = get_urls_from_path(\"./out\", url_list)\n",
    "url_list"
   ]
  },
  {
   "cell_type": "code",
   "execution_count": 7,
   "metadata": {},
   "outputs": [
    {
     "name": "stdout",
     "output_type": "stream",
     "text": [
      "https://en.wikipedia.org/wiki/Wuhan converted to text.\n",
      "https://en.wikipedia.org/wiki/Wuhan#History converted to text.\n",
      "https://en.wikipedia.org/wiki/Wuhan#Geography converted to text.\n",
      "https://en.wikipedia.org/wiki/Wuhan#Transportation converted to text.\n",
      "https://en.wikipedia.org/wiki/Wuhan#Culture converted to text.\n",
      "https://www.globaltimes.cn/page/202202/1252865.shtml converted to text.\n",
      "https://www.globaltimes.cn/page/202202/1252719.shtml converted to text.\n",
      "https://www.scmp.com/news/china/science/article/3167675/coronavirus-beijing-expert-who-beat-wuhan-outbreak-now-hong-kong converted to text.\n",
      "https://www.britannica.com/place/Wuhan converted to text.\n",
      "https://www.eyeonasia.gov.sg/china/know/china-municipalities-provinces/wuhan-profile/ converted to text.\n",
      "https://www.channelnewsasia.com/asia/china-covid-19-doctor-li-wenliang-whistleblower-wuhan-2407381 converted to text.\n",
      "https://en.unesco.org/creative-cities/wuhan converted to text.\n",
      "https://www.bloomberg.com/news/features/2021-06-27/did-covid-come-from-a-lab-scientist-at-wuhan-institute-speaks-out converted to text.\n",
      "https://www.reuters.com/world/china/china-reports-90-new-coronavirus-cases-aug-2-vs-98-day-earlier-2021-08-03/ converted to text.\n",
      "https://www.france24.com/en/tv-shows/focus/20220125-in-wuhan-chinese-authorities-rewrite-history-of-covid-19 converted to text.\n",
      "https://theconversation.com/global/topics/wuhan-80948 converted to text.\n",
      "https://www.aa.com.tr/en/asia-pacific/life-back-to-normal-in-covid-ground-zero-of-wuhan-china/2461675 failed to convert to text.\n",
      "https://www.ndtv.com/world-news/how-china-appears-to-be-blocking-investigation-on-covid-origins-2782100 converted to text.\n",
      "https://www.scmp.com/sport/china/article/3153286/wuhan-marathon-postponed-amid-surge-covid-19-cases-china converted to text.\n",
      "https://www.bbc.com/news/world-asia-china-58066744 converted to text.\n"
     ]
    }
   ],
   "source": [
    "path = \"./csv/\"\n",
    "if not os.path.exists(path):\n",
    "        os.makedirs(path)\n",
    "\n",
    "csv = open(path + \"out.csv\",\"w\")\n",
    "\n",
    "csv.write(\"url,content\\n\")\n",
    "\n",
    "for url in url_list:\n",
    "    try:\n",
    "        csv.write(url + \",\" + get_content_from_url(url) + \"\\n\")\n",
    "        print(url + \" converted to text.\")\n",
    "        time.sleep(1)\n",
    "    except:\n",
    "        print(url + \" failed to convert to text.\")\n",
    "\n",
    "csv.close()"
   ]
  },
  {
   "cell_type": "code",
   "execution_count": null,
   "metadata": {},
   "outputs": [],
   "source": []
  }
 ],
 "metadata": {
  "kernelspec": {
   "display_name": "Python 3 (ipykernel)",
   "language": "python",
   "name": "python3"
  },
  "language_info": {
   "codemirror_mode": {
    "name": "ipython",
    "version": 3
   },
   "file_extension": ".py",
   "mimetype": "text/x-python",
   "name": "python",
   "nbconvert_exporter": "python",
   "pygments_lexer": "ipython3",
   "version": "3.9.7"
  }
 },
 "nbformat": 4,
 "nbformat_minor": 2
}
