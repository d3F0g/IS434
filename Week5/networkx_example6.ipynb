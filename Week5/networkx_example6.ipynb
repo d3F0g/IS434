{
 "cells": [
  {
   "cell_type": "markdown",
   "metadata": {},
   "source": [
    "Social Network Analysis - Part 2 - Example 6\n",
    "(Network Measures - Directed Network)\n",
    "\n",
    "In this exercise, we will use networkx package to compute network-level measures:\n",
    "\n",
    "Size\n",
    "Density\n",
    "Diameter\n",
    "Average Path Length\n",
    "Reachability\n",
    "Reciprocity"
   ]
  },
  {
   "cell_type": "code",
   "execution_count": 2,
   "metadata": {},
   "outputs": [],
   "source": [
    "import matplotlib.pyplot as plt\n",
    "import networkx as nx"
   ]
  },
  {
   "cell_type": "code",
   "execution_count": 3,
   "metadata": {},
   "outputs": [],
   "source": [
    "# Generate a random graph (Erdos Renyi Graph)\n",
    "# Ref: https://www.geeksforgeeks.org/erdos-renyl-model-generating-random-graphs/\n",
    "\n",
    "num_nodes = 5\n",
    "prob = 0.4 # probability of edge creation between a pair of nodes\n",
    "G = nx.erdos_renyi_graph(num_nodes, prob, directed=True)"
   ]
  },
  {
   "cell_type": "code",
   "execution_count": 4,
   "metadata": {},
   "outputs": [
    {
     "data": {
      "image/png": "[encoded data removed]",
      "text/plain": [
       "<Figure size 504x504 with 1 Axes>"
      ]
     },
     "metadata": {},
     "output_type": "display_data"
    }
   ],
   "source": [
    "# Draw the network\n",
    "plt.figure(figsize = (7, 7))\n",
    "nx.draw(G, with_labels=True, node_size=700, node_color='y', font_size=10)\n",
    "plt.show()"
   ]
  },
  {
   "cell_type": "code",
   "execution_count": 5,
   "metadata": {},
   "outputs": [
    {
     "name": "stdout",
     "output_type": "stream",
     "text": [
      "Size:  5\n"
     ]
    }
   ],
   "source": [
    "# Size\n",
    "# It is equivalent to the total number of nodes in the network\n",
    "print(\"Size: \", G.number_of_nodes())"
   ]
  },
  {
   "cell_type": "code",
   "execution_count": 6,
   "metadata": {},
   "outputs": [
    {
     "name": "stdout",
     "output_type": "stream",
     "text": [
      "Density:  0.4\n"
     ]
    }
   ],
   "source": [
    "# Density\n",
    "# Ref: https://networkx.github.io/documentation/networkx-1.9/reference/generated/networkx.classes.function.density.html\n",
    "print(\"Density: \", nx.density(G))"
   ]
  },
  {
   "cell_type": "code",
   "execution_count": 7,
   "metadata": {},
   "outputs": [
    {
     "name": "stdout",
     "output_type": "stream",
     "text": [
      "======= Source:  0  & Target:  1 ========\n",
      "[0, 3, 2, 1]\n",
      "======= Source:  0  & Target:  2 ========\n",
      "[0, 3, 2]\n",
      "======= Source:  0  & Target:  3 ========\n",
      "[0, 3]\n",
      "======= Source:  0  & Target:  4 ========\n",
      "[0, 3, 2, 4]\n",
      "======= Source:  1  & Target:  2 ========\n",
      "[1, 2]\n",
      "======= Source:  1  & Target:  3 ========\n",
      "[1, 2, 4, 3]\n",
      "======= Source:  1  & Target:  4 ========\n",
      "[1, 2, 4]\n",
      "======= Source:  2  & Target:  1 ========\n",
      "[2, 1]\n",
      "======= Source:  2  & Target:  3 ========\n",
      "[2, 4, 3]\n",
      "======= Source:  2  & Target:  4 ========\n",
      "[2, 4]\n",
      "======= Source:  3  & Target:  1 ========\n",
      "[3, 2, 1]\n",
      "======= Source:  3  & Target:  2 ========\n",
      "[3, 2]\n",
      "======= Source:  3  & Target:  4 ========\n",
      "[3, 2, 4]\n",
      "======= Source:  4  & Target:  1 ========\n",
      "[4, 1]\n",
      "======= Source:  4  & Target:  2 ========\n",
      "[4, 2]\n",
      "======= Source:  4  & Target:  3 ========\n",
      "[4, 3]\n",
      "\n",
      "Diameter:  3\n"
     ]
    }
   ],
   "source": [
    "# Diameter\n",
    "# Ref: https://networkx.github.io/documentation/networkx-1.9.1/reference/generated/networkx.algorithms.shortest_paths.generic.has_path.html\n",
    "# Ref: https://networkx.github.io/documentation/networkx-1.10/reference/generated/networkx.algorithms.shortest_paths.generic.shortest_path.html\n",
    "\n",
    "# We will attempt to find the shortest path between any pair of nodes in the network\n",
    "# And find the LARGEST shortest path --> Diameter\n",
    "\n",
    "shortest_path_list = []\n",
    "node_list = list(G.nodes)\n",
    "for source in node_list:\n",
    "    for target in node_list:\n",
    "        if source != target and nx.has_path(G, source, target):\n",
    "            print(\"======= Source: \", source, \" & Target: \", target, \"========\")\n",
    "            shortest_path = nx.shortest_path(G, source=source, target=target)\n",
    "            print(shortest_path)\n",
    "            shortest_path_list.append(len(shortest_path))\n",
    "            \n",
    "# Now that we have a list of shortest distances\n",
    "# Let's find the max value\n",
    "# This is the network's \"diameter\")\n",
    "print(\"\\nDiameter: \", max(shortest_path_list) - 1)"
   ]
  },
  {
   "cell_type": "code",
   "execution_count": 8,
   "metadata": {},
   "outputs": [
    {
     "name": "stdout",
     "output_type": "stream",
     "text": [
      "Average path length:  1.35\n"
     ]
    }
   ],
   "source": [
    "# Average Path Length\n",
    "# Ref: https://networkx.github.io/documentation/networkx-1.10/reference/generated/networkx.algorithms.shortest_paths.generic.average_shortest_path_length.html\n",
    "print(\"Average path length: \", nx.average_shortest_path_length(G))"
   ]
  },
  {
   "cell_type": "code",
   "execution_count": 9,
   "metadata": {},
   "outputs": [
    {
     "name": "stdout",
     "output_type": "stream",
     "text": [
      "Total number of reachable other nodes:  4\n",
      "==========================================\n",
      "Current node is 0  and node-level reachability is 1.0\n",
      "{1, 2, 3, 4}\n",
      "==========================================\n",
      "Current node is 1  and node-level reachability is 0.75\n",
      "{2, 3, 4}\n",
      "==========================================\n",
      "Current node is 2  and node-level reachability is 0.75\n",
      "{1, 3, 4}\n",
      "==========================================\n",
      "Current node is 3  and node-level reachability is 0.75\n",
      "{1, 2, 4}\n",
      "==========================================\n",
      "Current node is 4  and node-level reachability is 0.75\n",
      "{1, 2, 3}\n",
      "\n",
      "################ Network-level Reachability ################\n",
      "0.8\n"
     ]
    }
   ],
   "source": [
    "# Reachability\n",
    "# Ref: https://networkx.github.io/documentation/networkx-1.9/reference/generated/networkx.algorithms.dag.descendants.html\n",
    "\n",
    "num_max_reachable_other_nodes = G.number_of_nodes() - 1\n",
    "\n",
    "print(\"Total number of reachable other nodes: \", num_max_reachable_other_nodes)\n",
    "node_list = list(G.nodes)  # All nodes - we will iterate through this list, one node at a time\n",
    "\n",
    "node_reachability_list = []\n",
    "for node in node_list:\n",
    "    # Retrieve 'descendants' or all reachable other nodes\n",
    "    # nx.descendants returns a Set\n",
    "    desc = nx.descendants(G, node)\n",
    "    \n",
    "    # How many other nodes are reachable from this node?\n",
    "    num_reachable_from_this_node = len(desc)\n",
    "    node_reachability = num_reachable_from_this_node / num_max_reachable_other_nodes\n",
    "    print(\"==========================================\")\n",
    "    print(\"Current node is\", node, \" and node-level reachability is\", node_reachability)\n",
    "    print(desc)\n",
    "    node_reachability_list.append(node_reachability)\n",
    "    \n",
    "print(\"\\n################ Network-level Reachability ################\")\n",
    "print( sum(node_reachability_list) / len(node_reachability_list) )"
   ]
  },
  {
   "cell_type": "code",
   "execution_count": 10,
   "metadata": {},
   "outputs": [
    {
     "name": "stdout",
     "output_type": "stream",
     "text": [
      "Reciprocity:  0.5\n"
     ]
    }
   ],
   "source": [
    "# Reciprocity\n",
    "# Ref: https://networkx.github.io/documentation/stable/reference/algorithms/generated/networkx.algorithms.reciprocity.reciprocity.html#networkx.algorithms.reciprocity.reciprocity\n",
    "# There ARE several different reciprocity calculation methods.\n",
    "# This function seems to be using a different calculation approach... than our approach\n",
    "print(\"Reciprocity: \", nx.reciprocity(G))"
   ]
  },
  {
   "cell_type": "code",
   "execution_count": 11,
   "metadata": {},
   "outputs": [
    {
     "name": "stdout",
     "output_type": "stream",
     "text": [
      "[(0, 3), (1, 2), (2, 1), (2, 4), (3, 2), (4, 1), (4, 2), (4, 3)]\n",
      "=========== Nodes  1 and 2  have a bi-directional/reciprocal edge =========\n",
      "=========== Nodes  2 and 4  have a bi-directional/reciprocal edge =========\n",
      "\n",
      "Total number of edges:  6\n",
      "['0-3', '1-2', '2-4', '3-2', '4-1', '4-3']\n",
      "\n",
      "Total number of 'reciprocating' edges:  2\n",
      "['2<->1', '4<->2']\n",
      "\n",
      "Network-level Reciprocity: 0.333\n"
     ]
    }
   ],
   "source": [
    "# Reciprocity (method used in Week 6 lecture slides)\n",
    "'''\n",
    "Suppose that a network has the following edges:\n",
    "\n",
    "0 -> 3\n",
    "1 <-> 2\n",
    "2 -> 4\n",
    "3 -> 1\n",
    "\n",
    "Of the 4 edges, how many are \"reciprocating\"?\n",
    "Looks like... there is only one.\n",
    "It is:\n",
    "         1 <-> 2\n",
    "         \n",
    "Thus, the network reciprocity is:\n",
    "\n",
    "     1 / 4 = 0.25 (25%)\n",
    "     \n",
    "'''\n",
    "\n",
    "# Retrieve all edges\n",
    "# Each edge is a tuple\n",
    "edge_list = list(G.edges())\n",
    "print(edge_list)\n",
    "\n",
    "\n",
    "\n",
    "# Not the most efficient code - feel free to re-write!\n",
    "\n",
    "total_num_edges = 0\n",
    "all_edges = []\n",
    "reciprocating_edges = []\n",
    "for (source, target) in edge_list:\n",
    "    if (str(source) + \"<->\" + str(target)) not in reciprocating_edges:\n",
    "        total_num_edges += 1\n",
    "        all_edges.append(str(source) + \"-\" + str(target))\n",
    "        \n",
    "        if G.has_edge(target, source):\n",
    "            print(\"=========== Nodes \", source, \"and\", target, \" have a bi-directional/reciprocal edge =========\")\n",
    "            reciprocating_edges.append( str(target) + \"<->\" + str(source) )\n",
    "\n",
    "# Let's see the statistics\n",
    "print(\"\\nTotal number of edges: \", total_num_edges)\n",
    "print(all_edges)\n",
    "print(\"\\nTotal number of 'reciprocating' edges: \", len(reciprocating_edges))\n",
    "print(reciprocating_edges)\n",
    "\n",
    "network_reciprocity = len(reciprocating_edges) / len(all_edges)\n",
    "print(\"\\nNetwork-level Reciprocity: %.3f\" % network_reciprocity)"
   ]
  },
  {
   "cell_type": "code",
   "execution_count": null,
   "metadata": {},
   "outputs": [],
   "source": []
  }
 ],
 "metadata": {
  "kernelspec": {
   "display_name": "Python 3 (ipykernel)",
   "language": "python",
   "name": "python3"
  },
  "language_info": {
   "codemirror_mode": {
    "name": "ipython",
    "version": 3
   },
   "file_extension": ".py",
   "mimetype": "text/x-python",
   "name": "python",
   "nbconvert_exporter": "python",
   "pygments_lexer": "ipython3",
   "version": "3.9.7"
  }
 },
 "nbformat": 4,
 "nbformat_minor": 2
}
